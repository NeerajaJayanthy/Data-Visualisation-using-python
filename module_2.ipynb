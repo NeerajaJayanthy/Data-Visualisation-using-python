{
  "nbformat": 4,
  "nbformat_minor": 0,
  "metadata": {
    "colab": {
      "provenance": [],
      "authorship_tag": "ABX9TyNUd9bQQb0tBzi5CYQxzg1Z",
      "include_colab_link": true
    },
    "kernelspec": {
      "name": "python3",
      "display_name": "Python 3"
    },
    "language_info": {
      "name": "python"
    }
  },
  "cells": [
    {
      "cell_type": "markdown",
      "metadata": {
        "id": "view-in-github",
        "colab_type": "text"
      },
      "source": [
        "<a href=\"https://colab.research.google.com/github/NeerajaJayanthy/Data-Visualisation-using-python/blob/main/module_2.ipynb\" target=\"_parent\"><img src=\"https://colab.research.google.com/assets/colab-badge.svg\" alt=\"Open In Colab\"/></a>"
      ]
    },
    {
      "cell_type": "markdown",
      "source": [
        "set_index"
      ],
      "metadata": {
        "id": "OZKUB7A524aF"
      }
    },
    {
      "cell_type": "code",
      "execution_count": null,
      "metadata": {
        "colab": {
          "base_uri": "https://localhost:8080/"
        },
        "id": "zmVF6RgN0G6I",
        "outputId": "75081557-1868-478d-8aaa-dda4a05982bb"
      },
      "outputs": [
        {
          "output_type": "stream",
          "name": "stdout",
          "text": [
            "         Population\n",
            "Country            \n",
            "India          1.30\n",
            "USA            0.33\n",
            "Germany        0.08\n",
            "   Country  Population\n",
            "0    India        1.30\n",
            "1      USA        0.33\n",
            "2  Germany        0.08\n"
          ]
        }
      ],
      "source": [
        "import pandas as pd\n",
        "data={'Country':['India','USA','Germany'],'Population':[1.3,0.33,0.08]}\n",
        "df=pd.DataFrame(data)\n",
        "\n",
        "#inplace=True means data is corrected within the dataframe\n",
        "# new_df=df.set_index('Country',inplace=True)\n",
        "# print(new_df)\n",
        "# print(df)\n",
        "\n",
        "#inplace=false means a new dataframe is created in which correction is made\n",
        "new_df1=df.set_index('Country',inplace=False)\n",
        "print(new_df1)\n",
        "print(df)"
      ]
    },
    {
      "cell_type": "markdown",
      "source": [
        "index_col"
      ],
      "metadata": {
        "id": "i8lH0_Rb2_94"
      }
    },
    {
      "cell_type": "code",
      "source": [
        "import pandas as pd\n",
        "from google.colab import files\n",
        "upload=files.upload()\n",
        "df=pd.read_csv('sales_data.csv',index_col='Product')\n",
        "print(df.head())"
      ],
      "metadata": {
        "colab": {
          "base_uri": "https://localhost:8080/",
          "height": 194
        },
        "id": "In6wAbff2l62",
        "outputId": "df5028fb-306a-4f24-b49d-775f38907b0a"
      },
      "execution_count": null,
      "outputs": [
        {
          "output_type": "display_data",
          "data": {
            "text/plain": [
              "<IPython.core.display.HTML object>"
            ],
            "text/html": [
              "\n",
              "     <input type=\"file\" id=\"files-a8aade2d-b74e-4907-b09b-0989f6ad13a1\" name=\"files[]\" multiple disabled\n",
              "        style=\"border:none\" />\n",
              "     <output id=\"result-a8aade2d-b74e-4907-b09b-0989f6ad13a1\">\n",
              "      Upload widget is only available when the cell has been executed in the\n",
              "      current browser session. Please rerun this cell to enable.\n",
              "      </output>\n",
              "      <script>// Copyright 2017 Google LLC\n",
              "//\n",
              "// Licensed under the Apache License, Version 2.0 (the \"License\");\n",
              "// you may not use this file except in compliance with the License.\n",
              "// You may obtain a copy of the License at\n",
              "//\n",
              "//      http://www.apache.org/licenses/LICENSE-2.0\n",
              "//\n",
              "// Unless required by applicable law or agreed to in writing, software\n",
              "// distributed under the License is distributed on an \"AS IS\" BASIS,\n",
              "// WITHOUT WARRANTIES OR CONDITIONS OF ANY KIND, either express or implied.\n",
              "// See the License for the specific language governing permissions and\n",
              "// limitations under the License.\n",
              "\n",
              "/**\n",
              " * @fileoverview Helpers for google.colab Python module.\n",
              " */\n",
              "(function(scope) {\n",
              "function span(text, styleAttributes = {}) {\n",
              "  const element = document.createElement('span');\n",
              "  element.textContent = text;\n",
              "  for (const key of Object.keys(styleAttributes)) {\n",
              "    element.style[key] = styleAttributes[key];\n",
              "  }\n",
              "  return element;\n",
              "}\n",
              "\n",
              "// Max number of bytes which will be uploaded at a time.\n",
              "const MAX_PAYLOAD_SIZE = 100 * 1024;\n",
              "\n",
              "function _uploadFiles(inputId, outputId) {\n",
              "  const steps = uploadFilesStep(inputId, outputId);\n",
              "  const outputElement = document.getElementById(outputId);\n",
              "  // Cache steps on the outputElement to make it available for the next call\n",
              "  // to uploadFilesContinue from Python.\n",
              "  outputElement.steps = steps;\n",
              "\n",
              "  return _uploadFilesContinue(outputId);\n",
              "}\n",
              "\n",
              "// This is roughly an async generator (not supported in the browser yet),\n",
              "// where there are multiple asynchronous steps and the Python side is going\n",
              "// to poll for completion of each step.\n",
              "// This uses a Promise to block the python side on completion of each step,\n",
              "// then passes the result of the previous step as the input to the next step.\n",
              "function _uploadFilesContinue(outputId) {\n",
              "  const outputElement = document.getElementById(outputId);\n",
              "  const steps = outputElement.steps;\n",
              "\n",
              "  const next = steps.next(outputElement.lastPromiseValue);\n",
              "  return Promise.resolve(next.value.promise).then((value) => {\n",
              "    // Cache the last promise value to make it available to the next\n",
              "    // step of the generator.\n",
              "    outputElement.lastPromiseValue = value;\n",
              "    return next.value.response;\n",
              "  });\n",
              "}\n",
              "\n",
              "/**\n",
              " * Generator function which is called between each async step of the upload\n",
              " * process.\n",
              " * @param {string} inputId Element ID of the input file picker element.\n",
              " * @param {string} outputId Element ID of the output display.\n",
              " * @return {!Iterable<!Object>} Iterable of next steps.\n",
              " */\n",
              "function* uploadFilesStep(inputId, outputId) {\n",
              "  const inputElement = document.getElementById(inputId);\n",
              "  inputElement.disabled = false;\n",
              "\n",
              "  const outputElement = document.getElementById(outputId);\n",
              "  outputElement.innerHTML = '';\n",
              "\n",
              "  const pickedPromise = new Promise((resolve) => {\n",
              "    inputElement.addEventListener('change', (e) => {\n",
              "      resolve(e.target.files);\n",
              "    });\n",
              "  });\n",
              "\n",
              "  const cancel = document.createElement('button');\n",
              "  inputElement.parentElement.appendChild(cancel);\n",
              "  cancel.textContent = 'Cancel upload';\n",
              "  const cancelPromise = new Promise((resolve) => {\n",
              "    cancel.onclick = () => {\n",
              "      resolve(null);\n",
              "    };\n",
              "  });\n",
              "\n",
              "  // Wait for the user to pick the files.\n",
              "  const files = yield {\n",
              "    promise: Promise.race([pickedPromise, cancelPromise]),\n",
              "    response: {\n",
              "      action: 'starting',\n",
              "    }\n",
              "  };\n",
              "\n",
              "  cancel.remove();\n",
              "\n",
              "  // Disable the input element since further picks are not allowed.\n",
              "  inputElement.disabled = true;\n",
              "\n",
              "  if (!files) {\n",
              "    return {\n",
              "      response: {\n",
              "        action: 'complete',\n",
              "      }\n",
              "    };\n",
              "  }\n",
              "\n",
              "  for (const file of files) {\n",
              "    const li = document.createElement('li');\n",
              "    li.append(span(file.name, {fontWeight: 'bold'}));\n",
              "    li.append(span(\n",
              "        `(${file.type || 'n/a'}) - ${file.size} bytes, ` +\n",
              "        `last modified: ${\n",
              "            file.lastModifiedDate ? file.lastModifiedDate.toLocaleDateString() :\n",
              "                                    'n/a'} - `));\n",
              "    const percent = span('0% done');\n",
              "    li.appendChild(percent);\n",
              "\n",
              "    outputElement.appendChild(li);\n",
              "\n",
              "    const fileDataPromise = new Promise((resolve) => {\n",
              "      const reader = new FileReader();\n",
              "      reader.onload = (e) => {\n",
              "        resolve(e.target.result);\n",
              "      };\n",
              "      reader.readAsArrayBuffer(file);\n",
              "    });\n",
              "    // Wait for the data to be ready.\n",
              "    let fileData = yield {\n",
              "      promise: fileDataPromise,\n",
              "      response: {\n",
              "        action: 'continue',\n",
              "      }\n",
              "    };\n",
              "\n",
              "    // Use a chunked sending to avoid message size limits. See b/62115660.\n",
              "    let position = 0;\n",
              "    do {\n",
              "      const length = Math.min(fileData.byteLength - position, MAX_PAYLOAD_SIZE);\n",
              "      const chunk = new Uint8Array(fileData, position, length);\n",
              "      position += length;\n",
              "\n",
              "      const base64 = btoa(String.fromCharCode.apply(null, chunk));\n",
              "      yield {\n",
              "        response: {\n",
              "          action: 'append',\n",
              "          file: file.name,\n",
              "          data: base64,\n",
              "        },\n",
              "      };\n",
              "\n",
              "      let percentDone = fileData.byteLength === 0 ?\n",
              "          100 :\n",
              "          Math.round((position / fileData.byteLength) * 100);\n",
              "      percent.textContent = `${percentDone}% done`;\n",
              "\n",
              "    } while (position < fileData.byteLength);\n",
              "  }\n",
              "\n",
              "  // All done.\n",
              "  yield {\n",
              "    response: {\n",
              "      action: 'complete',\n",
              "    }\n",
              "  };\n",
              "}\n",
              "\n",
              "scope.google = scope.google || {};\n",
              "scope.google.colab = scope.google.colab || {};\n",
              "scope.google.colab._files = {\n",
              "  _uploadFiles,\n",
              "  _uploadFilesContinue,\n",
              "};\n",
              "})(self);\n",
              "</script> "
            ]
          },
          "metadata": {}
        },
        {
          "output_type": "stream",
          "name": "stdout",
          "text": [
            "Saving sales_data.csv to sales_data (1).csv\n",
            "        Region  Year  Quarter  Revenue\n",
            "Product                               \n",
            "A        North  2021        1    10000\n",
            "B        South  2021        2    15000\n",
            "C         East  2021        3    12000\n",
            "A         West  2021        4    13000\n",
            "B        North  2022        1    14000\n"
          ]
        }
      ]
    },
    {
      "cell_type": "markdown",
      "source": [
        "sort_values"
      ],
      "metadata": {
        "id": "c23XvYmc4wmY"
      }
    },
    {
      "cell_type": "code",
      "source": [
        "import pandas as pd\n",
        "data={'Country':['India','India','USA','Germany','Germany','USA'],'Population':[1.3,0.33,0.08,1.5,1.7,0.5]}\n",
        "df=pd.DataFrame(data)\n",
        "# sorted_df=df.sort_values(by='Country',ascending=True)\n",
        "# sorted_df=df.sort_values(by=['Country','Population'],ascending=[True,False])\n",
        "sorted_df=df.sort_values(by=['Country','Population'],ascending=[False,True])\n",
        "print(sorted_df)"
      ],
      "metadata": {
        "colab": {
          "base_uri": "https://localhost:8080/"
        },
        "id": "9MVFMJez465a",
        "outputId": "e287e0e6-26b0-4ae9-9b44-33d433c266c1"
      },
      "execution_count": null,
      "outputs": [
        {
          "output_type": "stream",
          "name": "stdout",
          "text": [
            "   Country  Population\n",
            "2      USA        0.08\n",
            "5      USA        0.50\n",
            "1    India        0.33\n",
            "0    India        1.30\n",
            "3  Germany        1.50\n",
            "4  Germany        1.70\n"
          ]
        }
      ]
    },
    {
      "cell_type": "markdown",
      "source": [
        "isin()"
      ],
      "metadata": {
        "id": "Q3thlltqxgY2"
      }
    },
    {
      "cell_type": "code",
      "source": [
        "import pandas as pd\n",
        "data={\"name\":['Alice','Bob','Charlie','David','Eve'],\n",
        "      \"AGE\":[24,25,32,27,25],\n",
        "      \"Department\":['HR','Sales','Finanace','Engineering','Marketing']}\n",
        "\n",
        "df=pd.DataFrame(data)\n",
        "selected_dept=['HR','Sales','27']\n",
        "filtered=df[df.isin(selected_dept)]\n",
        "print(filtered )"
      ],
      "metadata": {
        "id": "MdqtIJ1g52ZW",
        "colab": {
          "base_uri": "https://localhost:8080/"
        },
        "outputId": "a0053876-1aa0-49a0-9876-3850eef992af"
      },
      "execution_count": null,
      "outputs": [
        {
          "output_type": "stream",
          "name": "stdout",
          "text": [
            "  name  AGE Department\n",
            "0  NaN  NaN         HR\n",
            "1  NaN  NaN      Sales\n",
            "2  NaN  NaN        NaN\n",
            "3  NaN  NaN        NaN\n",
            "4  NaN  NaN        NaN\n"
          ]
        }
      ]
    },
    {
      "cell_type": "code",
      "source": [
        "import pandas as pd\n",
        "data={\"name\":['Alice','Bob','Charlie','David','Eve'],\n",
        "      \"Age\":[24,25,32,27,25],\n",
        "       \"Score\":[84,27,75,64,84]}\n",
        "\n",
        "df=pd.DataFrame(data)\n",
        "selected_dept=['HR','Sales']\n",
        "filtered=df[(df[\"Age\"]>25)& (df[\"Score\"]>28)]\n",
        "print(filtered)"
      ],
      "metadata": {
        "colab": {
          "base_uri": "https://localhost:8080/"
        },
        "id": "2O8qlQTszHh9",
        "outputId": "c8c1268c-2f30-42fb-b8a2-b388c7a9bc3e"
      },
      "execution_count": null,
      "outputs": [
        {
          "output_type": "stream",
          "name": "stdout",
          "text": [
            "      name  Age  Score\n",
            "2  Charlie   32     75\n",
            "3    David   27     64\n"
          ]
        }
      ]
    },
    {
      "cell_type": "code",
      "source": [
        "import pandas as pd\n",
        "data={\"name\":['Alice','Bob','Charlie','David','Eve'],\n",
        "      \"Age\":[24,25,32,27,25],\n",
        "       \"Score\":[84,27,75,64,84]}\n",
        "\n",
        "df=pd.DataFrame(data)\n",
        "selected_dept=['HR','Sales']\n",
        "filtered=df[(df[\"Age\"]>25)| (df[\"Score\"]>28)]\n",
        "print(filtered)"
      ],
      "metadata": {
        "colab": {
          "base_uri": "https://localhost:8080/"
        },
        "id": "pwHEJN3Z0ae2",
        "outputId": "36fa56a7-f1a7-4b1f-8252-68cf7cde142d"
      },
      "execution_count": null,
      "outputs": [
        {
          "output_type": "stream",
          "name": "stdout",
          "text": [
            "      name  Age  Score\n",
            "0    Alice   24     84\n",
            "2  Charlie   32     75\n",
            "3    David   27     64\n",
            "4      Eve   25     84\n"
          ]
        }
      ]
    },
    {
      "cell_type": "code",
      "source": [
        "import pandas as pd\n",
        "data={\"name\":['Alice','Bob','Charlie','David','Eve'],\n",
        "      \"Age\":[24,25,32,27,25],\n",
        "       \"Score\":[84,27,75,64,84]}\n",
        "\n",
        "df=pd.DataFrame(data)\n",
        "selected_dept=['HR','Sales']\n",
        "filtered=df[~(df[\"Age\"]>25)]\n",
        "print(filtered)"
      ],
      "metadata": {
        "colab": {
          "base_uri": "https://localhost:8080/"
        },
        "id": "btkPosCf0e7n",
        "outputId": "cbae85d6-3aed-4f92-dedf-48e632576726"
      },
      "execution_count": null,
      "outputs": [
        {
          "output_type": "stream",
          "name": "stdout",
          "text": [
            "    name  Age  Score\n",
            "0  Alice   24     84\n",
            "1    Bob   25     27\n",
            "4    Eve   25     84\n"
          ]
        }
      ]
    },
    {
      "cell_type": "code",
      "source": [
        "import pandas as pd\n",
        "data={\"name\":['Alice','Bob','Charlie','David','Eve'],\n",
        "      \"Age\":[24,25,32,27,25],\n",
        "       \"Score\":[84,27,75,64,84]}\n",
        "\n",
        "df=pd.DataFrame(data)\n",
        "selected_dept=['HR','Sales',24]\n",
        "# filtered=df[~(df[\"Age\"]>25)&(df[\"Score\"]>28)]\n",
        "# filtered=df[~(df[\"Age\"]>25)|(df[\"Score\"]>28)]\n",
        "filtered=df[~(df[\"Age\"]>25).isin(selected_dept)]\n",
        "print(filtered)"
      ],
      "metadata": {
        "colab": {
          "base_uri": "https://localhost:8080/"
        },
        "id": "v8wcBbVK04pa",
        "outputId": "4b9d995d-4337-4d84-bf41-135f7d65d0ba"
      },
      "execution_count": null,
      "outputs": [
        {
          "output_type": "stream",
          "name": "stdout",
          "text": [
            "      name  Age  Score\n",
            "0    Alice   24     84\n",
            "1      Bob   25     27\n",
            "2  Charlie   32     75\n",
            "3    David   27     64\n",
            "4      Eve   25     84\n"
          ]
        }
      ]
    },
    {
      "cell_type": "markdown",
      "source": [
        "isna() and notna()"
      ],
      "metadata": {
        "id": "tFYIa6Qs4LQC"
      }
    },
    {
      "cell_type": "code",
      "source": [
        "import pandas as pd\n",
        "data={\"name\":['Alice','Bob','Charlie','David','Eve'],\n",
        "      \"Age\":[24,25,32,27,25],\n",
        "       \"Score\":[84,27,75,64,84]}\n",
        "\n",
        "df=pd.DataFrame(data)\n",
        "filtered=df[df[\"Age\"].isna()]\n",
        "print(filtered)\n",
        "\n",
        "filtered1=df[df[\"Age\"].notna()]\n",
        "print(filtered1)"
      ],
      "metadata": {
        "colab": {
          "base_uri": "https://localhost:8080/"
        },
        "id": "RvdFaWN_3vQ2",
        "outputId": "999c72a7-8fea-4d5f-d2e3-5c7b34d4e168"
      },
      "execution_count": null,
      "outputs": [
        {
          "output_type": "stream",
          "name": "stdout",
          "text": [
            "Empty DataFrame\n",
            "Columns: [name, Age, Score]\n",
            "Index: []\n",
            "      name  Age  Score\n",
            "0    Alice   24     84\n",
            "1      Bob   25     27\n",
            "2  Charlie   32     75\n",
            "3    David   27     64\n",
            "4      Eve   25     84\n"
          ]
        }
      ]
    },
    {
      "cell_type": "code",
      "source": [
        "#loc allows you to access rows and columns by labels\n",
        "import pandas as pd\n",
        "df=pd.DataFrame({'Name':['Alice','Bob','Charlie','David'],'Age':[25,30,35,40],'Score':[23,34,56,78],\"City\":['New York','San Fransisco','Texas','Cambridge']})\n",
        "print(df)\n",
        "a=df.loc[[0,2],\"Name\"]\n",
        "print (a)\n"
      ],
      "metadata": {
        "colab": {
          "base_uri": "https://localhost:8080/"
        },
        "id": "Qw9cxXLl6-LC",
        "outputId": "5f5e4baf-47fc-4bdd-ca31-f49af39408eb"
      },
      "execution_count": 2,
      "outputs": [
        {
          "output_type": "stream",
          "name": "stdout",
          "text": [
            "      Name  Age  Score           City\n",
            "0    Alice   25     23       New York\n",
            "1      Bob   30     34  San Fransisco\n",
            "2  Charlie   35     56          Texas\n",
            "3    David   40     78      Cambridge\n",
            "0      Alice\n",
            "2    Charlie\n",
            "Name: Name, dtype: object\n"
          ]
        }
      ]
    },
    {
      "cell_type": "code",
      "source": [
        "import pandas as pd\n",
        "df=pd.DataFrame({'Name':['Alice','Bob','Charlie','David'],'Age':[25,30,35,40],'Score':[23,34,56,78],\"City\":['New York','San Fransisco','Texas','Cambridge']})\n",
        "#TAKE NAME AS ROW COLUMN USING set index and display city for a person\n",
        "print(df)\n",
        "newdf = df.set_index('Name',inplace=False)\n",
        "print(newdf)\n",
        "print(newdf.loc['Alice','City'])\n",
        "print (newdf.loc[['Alice','Bob'],['City','Score']])\n"
      ],
      "metadata": {
        "colab": {
          "base_uri": "https://localhost:8080/"
        },
        "id": "MJetwa4O7YcM",
        "outputId": "8c268fd9-8c4c-4e2b-fc63-c7462f5671cd"
      },
      "execution_count": 6,
      "outputs": [
        {
          "output_type": "stream",
          "name": "stdout",
          "text": [
            "      Name  Age  Score           City\n",
            "0    Alice   25     23       New York\n",
            "1      Bob   30     34  San Fransisco\n",
            "2  Charlie   35     56          Texas\n",
            "3    David   40     78      Cambridge\n",
            "         Age  Score           City\n",
            "Name                              \n",
            "Alice     25     23       New York\n",
            "Bob       30     34  San Fransisco\n",
            "Charlie   35     56          Texas\n",
            "David     40     78      Cambridge\n",
            "New York\n",
            "                City  Score\n",
            "Name                       \n",
            "Alice       New York     23\n",
            "Bob    San Fransisco     34\n"
          ]
        }
      ]
    },
    {
      "cell_type": "code",
      "source": [
        "#between method\n",
        "#shorthand to check a range of values\n",
        "import pandas as pd\n",
        "df=pd.DataFrame({'Name':['Alice','Bob','Charlie','David'],'Age':[25,20,35,40],'Score':[23,34,56,78],\"City\":['New York','San Fransico','Texas','Cambridge']})\n",
        "print(df)\n",
        "a=df['Age'].between(20,30)\n",
        "print(a)\n",
        "b=df[df['Age'].between(20,35)]\n",
        "print(b)\n",
        "print(b.loc[:,['Name','City']])"
      ],
      "metadata": {
        "colab": {
          "base_uri": "https://localhost:8080/"
        },
        "id": "REuwR2M_7ggB",
        "outputId": "de755c61-a073-4fa7-db32-d015d13c31b8"
      },
      "execution_count": 5,
      "outputs": [
        {
          "output_type": "stream",
          "name": "stdout",
          "text": [
            "      Name  Age  Score          City\n",
            "0    Alice   25     23      New York\n",
            "1      Bob   20     34  San Fransico\n",
            "2  Charlie   35     56         Texas\n",
            "3    David   40     78     Cambridge\n",
            "0     True\n",
            "1     True\n",
            "2    False\n",
            "3    False\n",
            "Name: Age, dtype: bool\n",
            "      Name  Age  Score          City\n",
            "0    Alice   25     23      New York\n",
            "1      Bob   20     34  San Fransico\n",
            "2  Charlie   35     56         Texas\n",
            "      Name          City\n",
            "0    Alice      New York\n",
            "1      Bob  San Fransico\n",
            "2  Charlie         Texas\n"
          ]
        }
      ]
    },
    {
      "cell_type": "code",
      "source": [
        "\n",
        "#simply typing df[Age] returns it as an series\n",
        "#on doing a condition check on a series it returns a boolean series\n",
        "import pandas as pd\n",
        "df=pd.DataFrame({'Name':['Alice','Bob','Charlie','David'],'Age':[25,20,35,40],'Score':[23,34,56,78],\"City\":['New York','San Fransisco','Texas','Cambridge']})\n",
        "a=df['Age']\n",
        "print(a)\n",
        "#filtering data where age >25\n",
        "b=df['Age']>25\n",
        "print(b)#this returns a boolea dataframe\n",
        "#using the boolean series to filter the data in dataframe\n",
        "c=df[b]\n",
        "print(c)\n",
        "#or together you can do the above operation\n",
        "d=df[df['Age']>25]\n",
        "print(d)"
      ],
      "metadata": {
        "colab": {
          "base_uri": "https://localhost:8080/"
        },
        "id": "Cef9RbXK7eIS",
        "outputId": "ed9c96ba-56f9-4827-d866-4a96c8f167e5"
      },
      "execution_count": 4,
      "outputs": [
        {
          "output_type": "stream",
          "name": "stdout",
          "text": [
            "0    25\n",
            "1    20\n",
            "2    35\n",
            "3    40\n",
            "Name: Age, dtype: int64\n",
            "0    False\n",
            "1    False\n",
            "2     True\n",
            "3     True\n",
            "Name: Age, dtype: bool\n",
            "      Name  Age  Score       City\n",
            "2  Charlie   35     56      Texas\n",
            "3    David   40     78  Cambridge\n",
            "      Name  Age  Score       City\n",
            "2  Charlie   35     56      Texas\n",
            "3    David   40     78  Cambridge\n"
          ]
        }
      ]
    },
    {
      "cell_type": "code",
      "source": [
        "#iloc:integer based indexing method to select rows and columns by their integer position\n",
        "#slicing is available with iloc\n",
        "import pandas as pd\n",
        "df=pd.DataFrame({'Name':['Alice','Bob','Charlie','David'],'Age':[25,30,35,40],'Score':[23,34,56,78],\"City\":['New York','San Fransisco','Texas','Cambridge']})\n",
        "print(df)\n",
        "print(\"Single value printing\",df.iloc[[1,2]])\n",
        "print(\"Using slicing\",df.iloc[0:2,0:2])\n",
        "print(\"Using multiple values\",df.iloc[[0,2],[1,3]])\n",
        "print(\"Printing all rows\",df.iloc[:,[1,2]])\n",
        "print(\"Printing all columns\",df.iloc[[1,2],:])"
      ],
      "metadata": {
        "colab": {
          "base_uri": "https://localhost:8080/"
        },
        "id": "1qvjkiiI7b8J",
        "outputId": "4830b790-4639-4d83-e53d-f754b0cf43c9"
      },
      "execution_count": 3,
      "outputs": [
        {
          "output_type": "stream",
          "name": "stdout",
          "text": [
            "      Name  Age  Score           City\n",
            "0    Alice   25     23       New York\n",
            "1      Bob   30     34  San Fransisco\n",
            "2  Charlie   35     56          Texas\n",
            "3    David   40     78      Cambridge\n",
            "Single value printing       Name  Age  Score           City\n",
            "1      Bob   30     34  San Fransisco\n",
            "2  Charlie   35     56          Texas\n",
            "Using slicing     Name  Age\n",
            "0  Alice   25\n",
            "1    Bob   30\n",
            "Using multiple values    Age      City\n",
            "0   25  New York\n",
            "2   35     Texas\n",
            "Printing all rows    Age  Score\n",
            "0   25     23\n",
            "1   30     34\n",
            "2   35     56\n",
            "3   40     78\n",
            "Printing all columns       Name  Age  Score           City\n",
            "1      Bob   30     34  San Fransisco\n",
            "2  Charlie   35     56          Texas\n"
          ]
        }
      ]
    }
  ]
}